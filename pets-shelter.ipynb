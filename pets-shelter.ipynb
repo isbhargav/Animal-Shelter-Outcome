{
 "cells": [
  {
   "cell_type": "code",
   "execution_count": 1,
   "metadata": {
    "_cell_guid": "b1076dfc-b9ad-4769-8c92-a6c4dae69d19",
    "_uuid": "8f2839f25d086af736a60e9eeb907d3b93b6e0e5"
   },
   "outputs": [
    {
     "name": "stdout",
     "output_type": "stream",
     "text": [
      "/kaggle/input/shelter-animal-outcomes/sample_submission.csv.gz\n",
      "/kaggle/input/shelter-animal-outcomes/test.csv.gz\n",
      "/kaggle/input/shelter-animal-outcomes/train.csv.gz\n"
     ]
    }
   ],
   "source": [
    "# This Python 3 environment comes with many helpful analytics libraries installed\n",
    "# It is defined by the kaggle/python docker image: https://github.com/kaggle/docker-python\n",
    "# For example, here's several helpful packages to load in \n",
    "\n",
    "import numpy as np # linear algebra\n",
    "import pandas as pd # data processing, CSV file I/O (e.g. pd.read_csv)\n",
    "\n",
    "# Input data files are available in the \"../input/\" directory.\n",
    "# For example, running this (by clicking run or pressing Shift+Enter) will list all files under the input directory\n",
    "\n",
    "import os\n",
    "for dirname, _, filenames in os.walk('/kaggle/input'):\n",
    "    for filename in filenames:\n",
    "        print(os.path.join(dirname, filename))\n",
    "\n",
    "# Any results you write to the current directory are saved as output."
   ]
  },
  {
   "cell_type": "code",
   "execution_count": 2,
   "metadata": {
    "_cell_guid": "79c7e3d0-c299-4dcb-8224-4455121ee9b0",
    "_uuid": "d629ff2d2480ee46fbb7e2d37f6b5fab8052498a"
   },
   "outputs": [],
   "source": [
    "train_df = pd.read_csv('/kaggle/input/shelter-animal-outcomes/train.csv.gz',parse_dates=['DateTime'])\n",
    "test_df = pd.read_csv('/kaggle/input/shelter-animal-outcomes/test.csv.gz',parse_dates=['DateTime'])"
   ]
  },
  {
   "cell_type": "code",
   "execution_count": 3,
   "metadata": {},
   "outputs": [
    {
     "name": "stdout",
     "output_type": "stream",
     "text": [
      "<class 'pandas.core.frame.DataFrame'>\n",
      "RangeIndex: 26729 entries, 0 to 26728\n",
      "Data columns (total 10 columns):\n",
      "AnimalID          26729 non-null object\n",
      "Name              19038 non-null object\n",
      "DateTime          26729 non-null datetime64[ns]\n",
      "OutcomeType       26729 non-null object\n",
      "OutcomeSubtype    13117 non-null object\n",
      "AnimalType        26729 non-null object\n",
      "SexuponOutcome    26728 non-null object\n",
      "AgeuponOutcome    26711 non-null object\n",
      "Breed             26729 non-null object\n",
      "Color             26729 non-null object\n",
      "dtypes: datetime64[ns](1), object(9)\n",
      "memory usage: 2.0+ MB\n"
     ]
    }
   ],
   "source": [
    "import seaborn as sns\n",
    "import matplotlib.pyplot as plt\n",
    "%matplotlib inline\n",
    "train_df.info()"
   ]
  },
  {
   "cell_type": "code",
   "execution_count": 4,
   "metadata": {},
   "outputs": [
    {
     "data": {
      "text/html": [
       "<div>\n",
       "<style scoped>\n",
       "    .dataframe tbody tr th:only-of-type {\n",
       "        vertical-align: middle;\n",
       "    }\n",
       "\n",
       "    .dataframe tbody tr th {\n",
       "        vertical-align: top;\n",
       "    }\n",
       "\n",
       "    .dataframe thead th {\n",
       "        text-align: right;\n",
       "    }\n",
       "</style>\n",
       "<table border=\"1\" class=\"dataframe\">\n",
       "  <thead>\n",
       "    <tr style=\"text-align: right;\">\n",
       "      <th></th>\n",
       "      <th>ID</th>\n",
       "      <th>Name</th>\n",
       "      <th>DateTime</th>\n",
       "      <th>AnimalType</th>\n",
       "      <th>SexuponOutcome</th>\n",
       "      <th>AgeuponOutcome</th>\n",
       "      <th>Breed</th>\n",
       "      <th>Color</th>\n",
       "    </tr>\n",
       "  </thead>\n",
       "  <tbody>\n",
       "    <tr>\n",
       "      <th>0</th>\n",
       "      <td>1</td>\n",
       "      <td>Summer</td>\n",
       "      <td>2015-10-12 12:15:00</td>\n",
       "      <td>Dog</td>\n",
       "      <td>Intact Female</td>\n",
       "      <td>10 months</td>\n",
       "      <td>Labrador Retriever Mix</td>\n",
       "      <td>Red/White</td>\n",
       "    </tr>\n",
       "    <tr>\n",
       "      <th>1</th>\n",
       "      <td>2</td>\n",
       "      <td>Cheyenne</td>\n",
       "      <td>2014-07-26 17:59:00</td>\n",
       "      <td>Dog</td>\n",
       "      <td>Spayed Female</td>\n",
       "      <td>2 years</td>\n",
       "      <td>German Shepherd/Siberian Husky</td>\n",
       "      <td>Black/Tan</td>\n",
       "    </tr>\n",
       "    <tr>\n",
       "      <th>2</th>\n",
       "      <td>3</td>\n",
       "      <td>Gus</td>\n",
       "      <td>2016-01-13 12:20:00</td>\n",
       "      <td>Cat</td>\n",
       "      <td>Neutered Male</td>\n",
       "      <td>1 year</td>\n",
       "      <td>Domestic Shorthair Mix</td>\n",
       "      <td>Brown Tabby</td>\n",
       "    </tr>\n",
       "    <tr>\n",
       "      <th>3</th>\n",
       "      <td>4</td>\n",
       "      <td>Pongo</td>\n",
       "      <td>2013-12-28 18:12:00</td>\n",
       "      <td>Dog</td>\n",
       "      <td>Intact Male</td>\n",
       "      <td>4 months</td>\n",
       "      <td>Collie Smooth Mix</td>\n",
       "      <td>Tricolor</td>\n",
       "    </tr>\n",
       "    <tr>\n",
       "      <th>4</th>\n",
       "      <td>5</td>\n",
       "      <td>Skooter</td>\n",
       "      <td>2015-09-24 17:59:00</td>\n",
       "      <td>Dog</td>\n",
       "      <td>Neutered Male</td>\n",
       "      <td>2 years</td>\n",
       "      <td>Miniature Poodle Mix</td>\n",
       "      <td>White</td>\n",
       "    </tr>\n",
       "  </tbody>\n",
       "</table>\n",
       "</div>"
      ],
      "text/plain": [
       "   ID      Name            DateTime AnimalType SexuponOutcome AgeuponOutcome  \\\n",
       "0   1    Summer 2015-10-12 12:15:00        Dog  Intact Female      10 months   \n",
       "1   2  Cheyenne 2014-07-26 17:59:00        Dog  Spayed Female        2 years   \n",
       "2   3       Gus 2016-01-13 12:20:00        Cat  Neutered Male         1 year   \n",
       "3   4     Pongo 2013-12-28 18:12:00        Dog    Intact Male       4 months   \n",
       "4   5   Skooter 2015-09-24 17:59:00        Dog  Neutered Male        2 years   \n",
       "\n",
       "                            Breed        Color  \n",
       "0          Labrador Retriever Mix    Red/White  \n",
       "1  German Shepherd/Siberian Husky    Black/Tan  \n",
       "2          Domestic Shorthair Mix  Brown Tabby  \n",
       "3               Collie Smooth Mix     Tricolor  \n",
       "4            Miniature Poodle Mix        White  "
      ]
     },
     "execution_count": 4,
     "metadata": {},
     "output_type": "execute_result"
    }
   ],
   "source": [
    "test_df.head()"
   ]
  },
  {
   "cell_type": "markdown",
   "metadata": {},
   "source": [
    "# Checking Type of our dependent variable"
   ]
  },
  {
   "cell_type": "code",
   "execution_count": 5,
   "metadata": {},
   "outputs": [
    {
     "data": {
      "text/plain": [
       "Adoption           10769\n",
       "Transfer            9422\n",
       "Return_to_owner     4786\n",
       "Euthanasia          1555\n",
       "Died                 197\n",
       "Name: OutcomeType, dtype: int64"
      ]
     },
     "execution_count": 5,
     "metadata": {},
     "output_type": "execute_result"
    }
   ],
   "source": [
    "train_df.OutcomeType.value_counts()"
   ]
  },
  {
   "cell_type": "markdown",
   "metadata": {},
   "source": [
    "Seems like our dependent variable is a categorical variable with 4 different category.\n",
    "\n",
    "# Now lets check for missing values in our Data"
   ]
  },
  {
   "cell_type": "code",
   "execution_count": 6,
   "metadata": {},
   "outputs": [
    {
     "name": "stdout",
     "output_type": "stream",
     "text": [
      "AnimalID   0   0.0\n",
      "Name   7691   28.77399079651315\n",
      "DateTime   0   0.0\n",
      "OutcomeType   0   0.0\n",
      "OutcomeSubtype   13612   50.92596056717423\n",
      "AnimalType   0   0.0\n",
      "SexuponOutcome   1   0.0037412548168655768\n",
      "AgeuponOutcome   18   0.06734258670358038\n",
      "Breed   0   0.0\n",
      "Color   0   0.0\n"
     ]
    }
   ],
   "source": [
    "# Missing values\n",
    "for c in train_df.columns.values.tolist():\n",
    "    print(c,' ',train_df[c].isnull().sum(),' ',100 * train_df[c].isnull().sum()/len(train_df))"
   ]
  },
  {
   "cell_type": "code",
   "execution_count": 7,
   "metadata": {},
   "outputs": [
    {
     "name": "stdout",
     "output_type": "stream",
     "text": [
      "ID   0   0.0\n",
      "Name   3225   28.151187150837988\n",
      "DateTime   0   0.0\n",
      "AnimalType   0   0.0\n",
      "SexuponOutcome   0   0.0\n",
      "AgeuponOutcome   6   0.052374301675977654\n",
      "Breed   0   0.0\n",
      "Color   0   0.0\n"
     ]
    }
   ],
   "source": [
    "# Missing values\n",
    "for c in test_df.columns.values.tolist():\n",
    "    print(c,' ',test_df[c].isnull().sum(),' ',100 * test_df[c].isnull().sum()/len(test_df))"
   ]
  },
  {
   "cell_type": "markdown",
   "metadata": {},
   "source": [
    "# Observation\n",
    "## We can see that the percent of missing values\n",
    "1. OutcomeSubtype = 50%\n",
    "2. Name = 28%\n",
    "3. AgeuponOutcome = 6%\n",
    "4. SexuponOutcome =0.3%\n",
    "## So Next Question is How we deal with missing values in each column\n",
    "\n",
    "1. OutcomeSubtype = We dont need this column becuase it is not present in test set\n",
    "2. Name = Name does not matter it is kind of id\n",
    "3. AgeuponOutcome = We will convert this into months and for missing samples we will set it to 0\n",
    "4. SexuponOutcome = very less so set it to unknowm\n",
    "\n",
    "Convert Age in months from different format"
   ]
  },
  {
   "cell_type": "code",
   "execution_count": 8,
   "metadata": {},
   "outputs": [],
   "source": [
    "def get_age_in_monthe(x):\n",
    "    x = str(x)\n",
    "        \n",
    "    if x == 'nan':\n",
    "        return 0\n",
    "    n = int(x.split()[0])\n",
    "    if x.find('year') > -1:\n",
    "        return  n*12\n",
    "    if x.find('month') >-1:\n",
    "        return n\n",
    "    if x.find('week') >-1:\n",
    "        return n/4\n",
    "    if x.find('day') > -1:\n",
    "        \n",
    "        return n/30\n",
    "    \n",
    "    return 0;\n",
    "\n",
    "train_df.AgeuponOutcome = train_df.AgeuponOutcome.apply(get_age_in_monthe)\n",
    "test_df.AgeuponOutcome = test_df.AgeuponOutcome.apply(get_age_in_monthe)\n",
    "    "
   ]
  },
  {
   "cell_type": "code",
   "execution_count": 9,
   "metadata": {},
   "outputs": [],
   "source": [
    "# drop not required features from train and test\n",
    "train_df.drop(['Name','OutcomeSubtype','AnimalID'],axis=1,inplace=True)\n",
    "test_df.drop(['Name','ID'],axis=1,inplace=True)"
   ]
  },
  {
   "cell_type": "code",
   "execution_count": 10,
   "metadata": {},
   "outputs": [
    {
     "data": {
      "text/html": [
       "<div>\n",
       "<style scoped>\n",
       "    .dataframe tbody tr th:only-of-type {\n",
       "        vertical-align: middle;\n",
       "    }\n",
       "\n",
       "    .dataframe tbody tr th {\n",
       "        vertical-align: top;\n",
       "    }\n",
       "\n",
       "    .dataframe thead th {\n",
       "        text-align: right;\n",
       "    }\n",
       "</style>\n",
       "<table border=\"1\" class=\"dataframe\">\n",
       "  <thead>\n",
       "    <tr style=\"text-align: right;\">\n",
       "      <th></th>\n",
       "      <th>DateTime</th>\n",
       "      <th>OutcomeType</th>\n",
       "      <th>AnimalType</th>\n",
       "      <th>SexuponOutcome</th>\n",
       "      <th>AgeuponOutcome</th>\n",
       "      <th>Breed</th>\n",
       "      <th>Color</th>\n",
       "    </tr>\n",
       "  </thead>\n",
       "  <tbody>\n",
       "    <tr>\n",
       "      <th>0</th>\n",
       "      <td>2014-02-12 18:22:00</td>\n",
       "      <td>Return_to_owner</td>\n",
       "      <td>Dog</td>\n",
       "      <td>Neutered Male</td>\n",
       "      <td>12.00</td>\n",
       "      <td>Shetland Sheepdog Mix</td>\n",
       "      <td>Brown/White</td>\n",
       "    </tr>\n",
       "    <tr>\n",
       "      <th>1</th>\n",
       "      <td>2013-10-13 12:44:00</td>\n",
       "      <td>Euthanasia</td>\n",
       "      <td>Cat</td>\n",
       "      <td>Spayed Female</td>\n",
       "      <td>12.00</td>\n",
       "      <td>Domestic Shorthair Mix</td>\n",
       "      <td>Cream Tabby</td>\n",
       "    </tr>\n",
       "    <tr>\n",
       "      <th>2</th>\n",
       "      <td>2015-01-31 12:28:00</td>\n",
       "      <td>Adoption</td>\n",
       "      <td>Dog</td>\n",
       "      <td>Neutered Male</td>\n",
       "      <td>24.00</td>\n",
       "      <td>Pit Bull Mix</td>\n",
       "      <td>Blue/White</td>\n",
       "    </tr>\n",
       "    <tr>\n",
       "      <th>3</th>\n",
       "      <td>2014-07-11 19:09:00</td>\n",
       "      <td>Transfer</td>\n",
       "      <td>Cat</td>\n",
       "      <td>Intact Male</td>\n",
       "      <td>0.75</td>\n",
       "      <td>Domestic Shorthair Mix</td>\n",
       "      <td>Blue Cream</td>\n",
       "    </tr>\n",
       "    <tr>\n",
       "      <th>4</th>\n",
       "      <td>2013-11-15 12:52:00</td>\n",
       "      <td>Transfer</td>\n",
       "      <td>Dog</td>\n",
       "      <td>Neutered Male</td>\n",
       "      <td>24.00</td>\n",
       "      <td>Lhasa Apso/Miniature Poodle</td>\n",
       "      <td>Tan</td>\n",
       "    </tr>\n",
       "  </tbody>\n",
       "</table>\n",
       "</div>"
      ],
      "text/plain": [
       "             DateTime      OutcomeType AnimalType SexuponOutcome  \\\n",
       "0 2014-02-12 18:22:00  Return_to_owner        Dog  Neutered Male   \n",
       "1 2013-10-13 12:44:00       Euthanasia        Cat  Spayed Female   \n",
       "2 2015-01-31 12:28:00         Adoption        Dog  Neutered Male   \n",
       "3 2014-07-11 19:09:00         Transfer        Cat    Intact Male   \n",
       "4 2013-11-15 12:52:00         Transfer        Dog  Neutered Male   \n",
       "\n",
       "   AgeuponOutcome                        Breed        Color  \n",
       "0           12.00        Shetland Sheepdog Mix  Brown/White  \n",
       "1           12.00       Domestic Shorthair Mix  Cream Tabby  \n",
       "2           24.00                 Pit Bull Mix   Blue/White  \n",
       "3            0.75       Domestic Shorthair Mix   Blue Cream  \n",
       "4           24.00  Lhasa Apso/Miniature Poodle          Tan  "
      ]
     },
     "execution_count": 10,
     "metadata": {},
     "output_type": "execute_result"
    }
   ],
   "source": [
    "train_df.head()"
   ]
  },
  {
   "cell_type": "code",
   "execution_count": 11,
   "metadata": {},
   "outputs": [
    {
     "data": {
      "text/plain": [
       "Index(['DateTime', 'OutcomeType', 'AnimalType', 'SexuponOutcome',\n",
       "       'AgeuponOutcome', 'Breed', 'Color'],\n",
       "      dtype='object')"
      ]
     },
     "execution_count": 11,
     "metadata": {},
     "output_type": "execute_result"
    }
   ],
   "source": [
    "train_df.columns"
   ]
  },
  {
   "cell_type": "code",
   "execution_count": 12,
   "metadata": {},
   "outputs": [
    {
     "data": {
      "text/plain": [
       "Index(['DateTime', 'AnimalType', 'SexuponOutcome', 'AgeuponOutcome', 'Breed',\n",
       "       'Color'],\n",
       "      dtype='object')"
      ]
     },
     "execution_count": 12,
     "metadata": {},
     "output_type": "execute_result"
    }
   ],
   "source": [
    "test_df.columns"
   ]
  },
  {
   "cell_type": "code",
   "execution_count": 13,
   "metadata": {},
   "outputs": [],
   "source": [
    "from fastai import *\n",
    "from fastai.tabular import *"
   ]
  },
  {
   "cell_type": "code",
   "execution_count": 14,
   "metadata": {},
   "outputs": [
    {
     "data": {
      "text/html": [
       "<div>\n",
       "<style scoped>\n",
       "    .dataframe tbody tr th:only-of-type {\n",
       "        vertical-align: middle;\n",
       "    }\n",
       "\n",
       "    .dataframe tbody tr th {\n",
       "        vertical-align: top;\n",
       "    }\n",
       "\n",
       "    .dataframe thead th {\n",
       "        text-align: right;\n",
       "    }\n",
       "</style>\n",
       "<table border=\"1\" class=\"dataframe\">\n",
       "  <thead>\n",
       "    <tr style=\"text-align: right;\">\n",
       "      <th></th>\n",
       "      <th>AnimalType</th>\n",
       "      <th>SexuponOutcome</th>\n",
       "      <th>AgeuponOutcome</th>\n",
       "      <th>Breed</th>\n",
       "      <th>Color</th>\n",
       "      <th>DateTimeYear</th>\n",
       "      <th>DateTimeMonth</th>\n",
       "      <th>DateTimeWeek</th>\n",
       "      <th>DateTimeDay</th>\n",
       "      <th>DateTimeDayofweek</th>\n",
       "      <th>DateTimeDayofyear</th>\n",
       "      <th>DateTimeIs_month_end</th>\n",
       "      <th>DateTimeIs_month_start</th>\n",
       "      <th>DateTimeIs_quarter_end</th>\n",
       "      <th>DateTimeIs_quarter_start</th>\n",
       "      <th>DateTimeIs_year_end</th>\n",
       "      <th>DateTimeIs_year_start</th>\n",
       "      <th>DateTimeElapsed</th>\n",
       "    </tr>\n",
       "  </thead>\n",
       "  <tbody>\n",
       "    <tr>\n",
       "      <th>0</th>\n",
       "      <td>Dog</td>\n",
       "      <td>Intact Female</td>\n",
       "      <td>10.0</td>\n",
       "      <td>Labrador Retriever Mix</td>\n",
       "      <td>Red/White</td>\n",
       "      <td>2015</td>\n",
       "      <td>10</td>\n",
       "      <td>42</td>\n",
       "      <td>12</td>\n",
       "      <td>0</td>\n",
       "      <td>285</td>\n",
       "      <td>False</td>\n",
       "      <td>False</td>\n",
       "      <td>False</td>\n",
       "      <td>False</td>\n",
       "      <td>False</td>\n",
       "      <td>False</td>\n",
       "      <td>1444652100</td>\n",
       "    </tr>\n",
       "    <tr>\n",
       "      <th>1</th>\n",
       "      <td>Dog</td>\n",
       "      <td>Spayed Female</td>\n",
       "      <td>24.0</td>\n",
       "      <td>German Shepherd/Siberian Husky</td>\n",
       "      <td>Black/Tan</td>\n",
       "      <td>2014</td>\n",
       "      <td>7</td>\n",
       "      <td>30</td>\n",
       "      <td>26</td>\n",
       "      <td>5</td>\n",
       "      <td>207</td>\n",
       "      <td>False</td>\n",
       "      <td>False</td>\n",
       "      <td>False</td>\n",
       "      <td>False</td>\n",
       "      <td>False</td>\n",
       "      <td>False</td>\n",
       "      <td>1406397540</td>\n",
       "    </tr>\n",
       "    <tr>\n",
       "      <th>2</th>\n",
       "      <td>Cat</td>\n",
       "      <td>Neutered Male</td>\n",
       "      <td>12.0</td>\n",
       "      <td>Domestic Shorthair Mix</td>\n",
       "      <td>Brown Tabby</td>\n",
       "      <td>2016</td>\n",
       "      <td>1</td>\n",
       "      <td>2</td>\n",
       "      <td>13</td>\n",
       "      <td>2</td>\n",
       "      <td>13</td>\n",
       "      <td>False</td>\n",
       "      <td>False</td>\n",
       "      <td>False</td>\n",
       "      <td>False</td>\n",
       "      <td>False</td>\n",
       "      <td>False</td>\n",
       "      <td>1452687600</td>\n",
       "    </tr>\n",
       "    <tr>\n",
       "      <th>3</th>\n",
       "      <td>Dog</td>\n",
       "      <td>Intact Male</td>\n",
       "      <td>4.0</td>\n",
       "      <td>Collie Smooth Mix</td>\n",
       "      <td>Tricolor</td>\n",
       "      <td>2013</td>\n",
       "      <td>12</td>\n",
       "      <td>52</td>\n",
       "      <td>28</td>\n",
       "      <td>5</td>\n",
       "      <td>362</td>\n",
       "      <td>False</td>\n",
       "      <td>False</td>\n",
       "      <td>False</td>\n",
       "      <td>False</td>\n",
       "      <td>False</td>\n",
       "      <td>False</td>\n",
       "      <td>1388254320</td>\n",
       "    </tr>\n",
       "    <tr>\n",
       "      <th>4</th>\n",
       "      <td>Dog</td>\n",
       "      <td>Neutered Male</td>\n",
       "      <td>24.0</td>\n",
       "      <td>Miniature Poodle Mix</td>\n",
       "      <td>White</td>\n",
       "      <td>2015</td>\n",
       "      <td>9</td>\n",
       "      <td>39</td>\n",
       "      <td>24</td>\n",
       "      <td>3</td>\n",
       "      <td>267</td>\n",
       "      <td>False</td>\n",
       "      <td>False</td>\n",
       "      <td>False</td>\n",
       "      <td>False</td>\n",
       "      <td>False</td>\n",
       "      <td>False</td>\n",
       "      <td>1443117540</td>\n",
       "    </tr>\n",
       "    <tr>\n",
       "      <th>...</th>\n",
       "      <td>...</td>\n",
       "      <td>...</td>\n",
       "      <td>...</td>\n",
       "      <td>...</td>\n",
       "      <td>...</td>\n",
       "      <td>...</td>\n",
       "      <td>...</td>\n",
       "      <td>...</td>\n",
       "      <td>...</td>\n",
       "      <td>...</td>\n",
       "      <td>...</td>\n",
       "      <td>...</td>\n",
       "      <td>...</td>\n",
       "      <td>...</td>\n",
       "      <td>...</td>\n",
       "      <td>...</td>\n",
       "      <td>...</td>\n",
       "      <td>...</td>\n",
       "    </tr>\n",
       "    <tr>\n",
       "      <th>11451</th>\n",
       "      <td>Cat</td>\n",
       "      <td>Neutered Male</td>\n",
       "      <td>2.0</td>\n",
       "      <td>Domestic Shorthair Mix</td>\n",
       "      <td>Black</td>\n",
       "      <td>2014</td>\n",
       "      <td>7</td>\n",
       "      <td>28</td>\n",
       "      <td>8</td>\n",
       "      <td>1</td>\n",
       "      <td>189</td>\n",
       "      <td>False</td>\n",
       "      <td>False</td>\n",
       "      <td>False</td>\n",
       "      <td>False</td>\n",
       "      <td>False</td>\n",
       "      <td>False</td>\n",
       "      <td>1404831000</td>\n",
       "    </tr>\n",
       "    <tr>\n",
       "      <th>11452</th>\n",
       "      <td>Cat</td>\n",
       "      <td>Intact Female</td>\n",
       "      <td>0.5</td>\n",
       "      <td>Domestic Shorthair Mix</td>\n",
       "      <td>Blue</td>\n",
       "      <td>2014</td>\n",
       "      <td>10</td>\n",
       "      <td>43</td>\n",
       "      <td>21</td>\n",
       "      <td>1</td>\n",
       "      <td>294</td>\n",
       "      <td>False</td>\n",
       "      <td>False</td>\n",
       "      <td>False</td>\n",
       "      <td>False</td>\n",
       "      <td>False</td>\n",
       "      <td>False</td>\n",
       "      <td>1413896220</td>\n",
       "    </tr>\n",
       "    <tr>\n",
       "      <th>11453</th>\n",
       "      <td>Cat</td>\n",
       "      <td>Intact Female</td>\n",
       "      <td>12.0</td>\n",
       "      <td>Domestic Shorthair Mix</td>\n",
       "      <td>Calico</td>\n",
       "      <td>2014</td>\n",
       "      <td>9</td>\n",
       "      <td>40</td>\n",
       "      <td>29</td>\n",
       "      <td>0</td>\n",
       "      <td>272</td>\n",
       "      <td>False</td>\n",
       "      <td>False</td>\n",
       "      <td>False</td>\n",
       "      <td>False</td>\n",
       "      <td>False</td>\n",
       "      <td>False</td>\n",
       "      <td>1411981200</td>\n",
       "    </tr>\n",
       "    <tr>\n",
       "      <th>11454</th>\n",
       "      <td>Dog</td>\n",
       "      <td>Neutered Male</td>\n",
       "      <td>72.0</td>\n",
       "      <td>German Shepherd Mix</td>\n",
       "      <td>Black/Tan</td>\n",
       "      <td>2015</td>\n",
       "      <td>9</td>\n",
       "      <td>36</td>\n",
       "      <td>5</td>\n",
       "      <td>5</td>\n",
       "      <td>248</td>\n",
       "      <td>False</td>\n",
       "      <td>False</td>\n",
       "      <td>False</td>\n",
       "      <td>False</td>\n",
       "      <td>False</td>\n",
       "      <td>False</td>\n",
       "      <td>1441473360</td>\n",
       "    </tr>\n",
       "    <tr>\n",
       "      <th>11455</th>\n",
       "      <td>Dog</td>\n",
       "      <td>Intact Male</td>\n",
       "      <td>48.0</td>\n",
       "      <td>Labrador Retriever</td>\n",
       "      <td>Cream</td>\n",
       "      <td>2014</td>\n",
       "      <td>7</td>\n",
       "      <td>28</td>\n",
       "      <td>12</td>\n",
       "      <td>5</td>\n",
       "      <td>193</td>\n",
       "      <td>False</td>\n",
       "      <td>False</td>\n",
       "      <td>False</td>\n",
       "      <td>False</td>\n",
       "      <td>False</td>\n",
       "      <td>False</td>\n",
       "      <td>1405190400</td>\n",
       "    </tr>\n",
       "  </tbody>\n",
       "</table>\n",
       "<p>11456 rows × 18 columns</p>\n",
       "</div>"
      ],
      "text/plain": [
       "      AnimalType SexuponOutcome  AgeuponOutcome  \\\n",
       "0            Dog  Intact Female            10.0   \n",
       "1            Dog  Spayed Female            24.0   \n",
       "2            Cat  Neutered Male            12.0   \n",
       "3            Dog    Intact Male             4.0   \n",
       "4            Dog  Neutered Male            24.0   \n",
       "...          ...            ...             ...   \n",
       "11451        Cat  Neutered Male             2.0   \n",
       "11452        Cat  Intact Female             0.5   \n",
       "11453        Cat  Intact Female            12.0   \n",
       "11454        Dog  Neutered Male            72.0   \n",
       "11455        Dog    Intact Male            48.0   \n",
       "\n",
       "                                Breed        Color  DateTimeYear  \\\n",
       "0              Labrador Retriever Mix    Red/White          2015   \n",
       "1      German Shepherd/Siberian Husky    Black/Tan          2014   \n",
       "2              Domestic Shorthair Mix  Brown Tabby          2016   \n",
       "3                   Collie Smooth Mix     Tricolor          2013   \n",
       "4                Miniature Poodle Mix        White          2015   \n",
       "...                               ...          ...           ...   \n",
       "11451          Domestic Shorthair Mix        Black          2014   \n",
       "11452          Domestic Shorthair Mix         Blue          2014   \n",
       "11453          Domestic Shorthair Mix       Calico          2014   \n",
       "11454             German Shepherd Mix    Black/Tan          2015   \n",
       "11455              Labrador Retriever        Cream          2014   \n",
       "\n",
       "       DateTimeMonth  DateTimeWeek  DateTimeDay  DateTimeDayofweek  \\\n",
       "0                 10            42           12                  0   \n",
       "1                  7            30           26                  5   \n",
       "2                  1             2           13                  2   \n",
       "3                 12            52           28                  5   \n",
       "4                  9            39           24                  3   \n",
       "...              ...           ...          ...                ...   \n",
       "11451              7            28            8                  1   \n",
       "11452             10            43           21                  1   \n",
       "11453              9            40           29                  0   \n",
       "11454              9            36            5                  5   \n",
       "11455              7            28           12                  5   \n",
       "\n",
       "       DateTimeDayofyear  DateTimeIs_month_end  DateTimeIs_month_start  \\\n",
       "0                    285                 False                   False   \n",
       "1                    207                 False                   False   \n",
       "2                     13                 False                   False   \n",
       "3                    362                 False                   False   \n",
       "4                    267                 False                   False   \n",
       "...                  ...                   ...                     ...   \n",
       "11451                189                 False                   False   \n",
       "11452                294                 False                   False   \n",
       "11453                272                 False                   False   \n",
       "11454                248                 False                   False   \n",
       "11455                193                 False                   False   \n",
       "\n",
       "       DateTimeIs_quarter_end  DateTimeIs_quarter_start  DateTimeIs_year_end  \\\n",
       "0                       False                     False                False   \n",
       "1                       False                     False                False   \n",
       "2                       False                     False                False   \n",
       "3                       False                     False                False   \n",
       "4                       False                     False                False   \n",
       "...                       ...                       ...                  ...   \n",
       "11451                   False                     False                False   \n",
       "11452                   False                     False                False   \n",
       "11453                   False                     False                False   \n",
       "11454                   False                     False                False   \n",
       "11455                   False                     False                False   \n",
       "\n",
       "       DateTimeIs_year_start  DateTimeElapsed  \n",
       "0                      False       1444652100  \n",
       "1                      False       1406397540  \n",
       "2                      False       1452687600  \n",
       "3                      False       1388254320  \n",
       "4                      False       1443117540  \n",
       "...                      ...              ...  \n",
       "11451                  False       1404831000  \n",
       "11452                  False       1413896220  \n",
       "11453                  False       1411981200  \n",
       "11454                  False       1441473360  \n",
       "11455                  False       1405190400  \n",
       "\n",
       "[11456 rows x 18 columns]"
      ]
     },
     "execution_count": 14,
     "metadata": {},
     "output_type": "execute_result"
    }
   ],
   "source": [
    "add_datepart(field_name='DateTime',df=train_df,drop=True)\n",
    "add_datepart(field_name='DateTime',df=test_df,drop=True)"
   ]
  },
  {
   "cell_type": "code",
   "execution_count": 15,
   "metadata": {},
   "outputs": [],
   "source": [
    "cat_names = ['AnimalType','SexuponOutcome','Breed','Color', 'DateTimeYear', 'DateTimeMonth', 'DateTimeWeek',\n",
    "       'DateTimeDay', 'DateTimeDayofweek', 'DateTimeDayofyear',\n",
    "       'DateTimeIs_month_end', 'DateTimeIs_month_start',\n",
    "       'DateTimeIs_quarter_end', 'DateTimeIs_quarter_start',\n",
    "       'DateTimeIs_year_end', 'DateTimeIs_year_start']\n",
    "cont_names = ['AgeuponOutcome', 'DateTimeElapsed']\n",
    "dep_var = 'OutcomeType'\n",
    "\n",
    "train_df = train_df[cat_names+cont_names+[dep_var]]\n",
    "test_df = test_df[cat_names+cont_names]"
   ]
  },
  {
   "cell_type": "code",
   "execution_count": 16,
   "metadata": {},
   "outputs": [
    {
     "name": "stdout",
     "output_type": "stream",
     "text": [
      "AnimalType   0   0.0\n",
      "SexuponOutcome   1   0.0037412548168655768\n",
      "Breed   0   0.0\n",
      "Color   0   0.0\n",
      "DateTimeYear   0   0.0\n",
      "DateTimeMonth   0   0.0\n",
      "DateTimeWeek   0   0.0\n",
      "DateTimeDay   0   0.0\n",
      "DateTimeDayofweek   0   0.0\n",
      "DateTimeDayofyear   0   0.0\n",
      "DateTimeIs_month_end   0   0.0\n",
      "DateTimeIs_month_start   0   0.0\n",
      "DateTimeIs_quarter_end   0   0.0\n",
      "DateTimeIs_quarter_start   0   0.0\n",
      "DateTimeIs_year_end   0   0.0\n",
      "DateTimeIs_year_start   0   0.0\n",
      "AgeuponOutcome   0   0.0\n",
      "DateTimeElapsed   0   0.0\n",
      "OutcomeType   0   0.0\n"
     ]
    }
   ],
   "source": [
    "# Missing values\n",
    "for c in train_df.columns.values.tolist():\n",
    "    print(c,' ',train_df[c].isnull().sum(),' ',100 * train_df[c].isnull().sum()/len(train_df))"
   ]
  },
  {
   "cell_type": "code",
   "execution_count": 17,
   "metadata": {},
   "outputs": [
    {
     "name": "stdout",
     "output_type": "stream",
     "text": [
      "AnimalType   0   0.0\n",
      "SexuponOutcome   0   0.0\n",
      "Breed   0   0.0\n",
      "Color   0   0.0\n",
      "DateTimeYear   0   0.0\n",
      "DateTimeMonth   0   0.0\n",
      "DateTimeWeek   0   0.0\n",
      "DateTimeDay   0   0.0\n",
      "DateTimeDayofweek   0   0.0\n",
      "DateTimeDayofyear   0   0.0\n",
      "DateTimeIs_month_end   0   0.0\n",
      "DateTimeIs_month_start   0   0.0\n",
      "DateTimeIs_quarter_end   0   0.0\n",
      "DateTimeIs_quarter_start   0   0.0\n",
      "DateTimeIs_year_end   0   0.0\n",
      "DateTimeIs_year_start   0   0.0\n",
      "AgeuponOutcome   0   0.0\n",
      "DateTimeElapsed   0   0.0\n"
     ]
    }
   ],
   "source": [
    "# Missing values\n",
    "for c in test_df.columns.values.tolist():\n",
    "    print(c,' ',test_df[c].isnull().sum(),' ',100 * test_df[c].isnull().sum()/len(test_df))"
   ]
  },
  {
   "cell_type": "code",
   "execution_count": 18,
   "metadata": {},
   "outputs": [],
   "source": [
    "# setting everything to lowercase\n",
    "for c in ['AnimalType','SexuponOutcome','Breed','Color']:\n",
    "    train_df[c] =train_df[c].str.lower()\n",
    "    test_df[c] = test_df[c].str.lower()"
   ]
  },
  {
   "cell_type": "code",
   "execution_count": 19,
   "metadata": {},
   "outputs": [],
   "source": [
    "# Adding Sex and State  column\n",
    "train_df['Sex'] = train_df.SexuponOutcome.str.extract(r'.*?(male|female|unknown)')\n",
    "test_df['Sex'] = test_df.SexuponOutcome.str.extract(r'.*?(male|female|unknown)')\n",
    "\n",
    "train_df['State'] = train_df.SexuponOutcome.str.extract(r'(neutered|spayed|intact|unknown).*?')\n",
    "test_df['State'] = test_df.SexuponOutcome.str.extract(r'(neutered|spayed|intact|unknown).*?')\n",
    "\n",
    "train_df.drop('SexuponOutcome',axis=1,inplace=True)\n",
    "test_df.drop('SexuponOutcome',axis=1,inplace=True)"
   ]
  },
  {
   "cell_type": "code",
   "execution_count": 20,
   "metadata": {},
   "outputs": [],
   "source": [
    "cat_names = ['AnimalType','Sex','State','Breed','Color', 'DateTimeYear', 'DateTimeMonth', 'DateTimeWeek',\n",
    "       'DateTimeDay', 'DateTimeDayofweek', 'DateTimeDayofyear',\n",
    "       'DateTimeIs_month_end', 'DateTimeIs_month_start',\n",
    "       'DateTimeIs_quarter_end', 'DateTimeIs_quarter_start',\n",
    "       'DateTimeIs_year_end', 'DateTimeIs_year_start']\n",
    "cont_names = ['AgeuponOutcome', 'DateTimeElapsed']\n",
    "dep_var = 'OutcomeType'\n",
    "\n",
    "train_df = train_df[cat_names+cont_names+[dep_var]]\n",
    "test_df = test_df[cat_names+cont_names]"
   ]
  },
  {
   "cell_type": "code",
   "execution_count": 21,
   "metadata": {},
   "outputs": [],
   "source": [
    "train_df.OutcomeType = train_df.OutcomeType.astype('category')"
   ]
  },
  {
   "cell_type": "code",
   "execution_count": 22,
   "metadata": {},
   "outputs": [],
   "source": [
    "catfy =Categorify(cat_names,cont_names)\n",
    "catfy.apply_train(train_df)\n",
    "catfy.apply_test(test_df)"
   ]
  },
  {
   "cell_type": "markdown",
   "metadata": {},
   "source": [
    "# Exploratory Data Analysis\n",
    "\n",
    "1. Statistical Relationship\n",
    "2. Catgorical variable \n",
    "3. Distibutions"
   ]
  },
  {
   "cell_type": "code",
   "execution_count": 23,
   "metadata": {},
   "outputs": [],
   "source": [
    "import seaborn as sns\n",
    "%matplotlib inline"
   ]
  },
  {
   "cell_type": "code",
   "execution_count": 24,
   "metadata": {},
   "outputs": [
    {
     "data": {
      "text/plain": [
       "<matplotlib.axes._subplots.AxesSubplot at 0x7ff66a042470>"
      ]
     },
     "execution_count": 24,
     "metadata": {},
     "output_type": "execute_result"
    },
    {
     "data": {
      "image/png": "[encoded data removed]",
      "text/plain": [
       "<Figure size 432x288 with 1 Axes>"
      ]
     },
     "metadata": {
      "needs_background": "light"
     },
     "output_type": "display_data"
    }
   ],
   "source": [
    "sns.countplot(dep_var,data=train_df)"
   ]
  },
  {
   "cell_type": "code",
   "execution_count": 25,
   "metadata": {},
   "outputs": [
    {
     "data": {
      "text/plain": [
       "<matplotlib.axes._subplots.AxesSubplot at 0x7ff66a032668>"
      ]
     },
     "execution_count": 25,
     "metadata": {},
     "output_type": "execute_result"
    },
    {
     "data": {
      "image/png": "[encoded data removed]",
      "text/plain": [
       "<Figure size 432x288 with 1 Axes>"
      ]
     },
     "metadata": {
      "needs_background": "light"
     },
     "output_type": "display_data"
    }
   ],
   "source": [
    "sns.countplot(cat_names[0],data=train_df)"
   ]
  },
  {
   "cell_type": "code",
   "execution_count": 26,
   "metadata": {},
   "outputs": [
    {
     "data": {
      "text/plain": [
       "<matplotlib.axes._subplots.AxesSubplot at 0x7ff669e5c048>"
      ]
     },
     "execution_count": 26,
     "metadata": {},
     "output_type": "execute_result"
    },
    {
     "data": {
      "image/png": "[encoded data removed]",
      "text/plain": [
       "<Figure size 432x288 with 1 Axes>"
      ]
     },
     "metadata": {
      "needs_background": "light"
     },
     "output_type": "display_data"
    }
   ],
   "source": [
    "sns.countplot(cat_names[1],data=train_df)"
   ]
  },
  {
   "cell_type": "code",
   "execution_count": 27,
   "metadata": {},
   "outputs": [
    {
     "data": {
      "text/plain": [
       "<matplotlib.axes._subplots.AxesSubplot at 0x7ff66a355780>"
      ]
     },
     "execution_count": 27,
     "metadata": {},
     "output_type": "execute_result"
    },
    {
     "data": {
      "image/png": "[encoded data removed]",
      "text/plain": [
       "<Figure size 432x288 with 1 Axes>"
      ]
     },
     "metadata": {
      "needs_background": "light"
     },
     "output_type": "display_data"
    }
   ],
   "source": [
    "sns.countplot(cat_names[2],data=train_df)"
   ]
  },
  {
   "cell_type": "code",
   "execution_count": 28,
   "metadata": {},
   "outputs": [
    {
     "data": {
      "text/plain": [
       "<seaborn.axisgrid.FacetGrid at 0x7ff66a2e80f0>"
      ]
     },
     "execution_count": 28,
     "metadata": {},
     "output_type": "execute_result"
    },
    {
     "data": {
      "image/png": "[encoded data removed]",
      "text/plain": [
       "<Figure size 720x360 with 2 Axes>"
      ]
     },
     "metadata": {
      "needs_background": "light"
     },
     "output_type": "display_data"
    }
   ],
   "source": [
    "sns.relplot(x='AgeuponOutcome',y=dep_var,data=train_df,col='AnimalType',alpha=.2)"
   ]
  },
  {
   "cell_type": "code",
   "execution_count": 29,
   "metadata": {},
   "outputs": [],
   "source": [
    "from sklearn.model_selection import train_test_split\n",
    "from sklearn.ensemble import RandomForestClassifier "
   ]
  },
  {
   "cell_type": "code",
   "execution_count": 30,
   "metadata": {},
   "outputs": [],
   "source": [
    "train_x,val_x,train_y,val_y = train_test_split(train_df.drop(dep_var,axis=1),train_df[dep_var],test_size=0.2)"
   ]
  },
  {
   "cell_type": "code",
   "execution_count": 31,
   "metadata": {},
   "outputs": [],
   "source": [
    "for c in cat_names:\n",
    "    train_x[c] =train_x[c].cat.codes\n",
    "    val_x[c] = val_x[c].cat.codes"
   ]
  },
  {
   "cell_type": "code",
   "execution_count": null,
   "metadata": {},
   "outputs": [],
   "source": []
  },
  {
   "cell_type": "code",
   "execution_count": 32,
   "metadata": {},
   "outputs": [],
   "source": [
    "forest = RandomForestClassifier(n_estimators=250, n_jobs=2)\n",
    "forest.fit(train_x, train_y)\n",
    "y_pred_val = forest.predict(val_x)"
   ]
  },
  {
   "cell_type": "code",
   "execution_count": 33,
   "metadata": {},
   "outputs": [],
   "source": [
    "y_pred_val = forest.predict(val_x)\n"
   ]
  },
  {
   "cell_type": "code",
   "execution_count": 34,
   "metadata": {},
   "outputs": [
    {
     "name": "stdout",
     "output_type": "stream",
     "text": [
      "                 precision    recall  f1-score   support\n",
      "\n",
      "       Adoption       0.69      0.81      0.75      2179\n",
      "           Died       0.80      0.09      0.15        47\n",
      "     Euthanasia       0.40      0.11      0.17       333\n",
      "Return_to_owner       0.42      0.40      0.41       915\n",
      "       Transfer       0.72      0.71      0.71      1872\n",
      "\n",
      "       accuracy                           0.65      5346\n",
      "      macro avg       0.61      0.42      0.44      5346\n",
      "   weighted avg       0.64      0.65      0.64      5346\n",
      "\n",
      "0.652450430228208\n"
     ]
    }
   ],
   "source": [
    "from sklearn.metrics import classification_report, accuracy_score\n",
    "print(classification_report(val_y, y_pred_val))\n",
    "print(accuracy_score(val_y, y_pred_val))"
   ]
  },
  {
   "cell_type": "code",
   "execution_count": 35,
   "metadata": {},
   "outputs": [],
   "source": [
    "forest = RandomForestClassifier(n_estimators=250,min_samples_leaf=5, n_jobs=2)\n",
    "forest.fit(train_x, train_y)\n",
    "y_pred_val = forest.predict(val_x)"
   ]
  },
  {
   "cell_type": "code",
   "execution_count": 36,
   "metadata": {},
   "outputs": [
    {
     "name": "stdout",
     "output_type": "stream",
     "text": [
      "                 precision    recall  f1-score   support\n",
      "\n",
      "       Adoption       0.68      0.84      0.75      2179\n",
      "           Died       0.00      0.00      0.00        47\n",
      "     Euthanasia       0.41      0.04      0.07       333\n",
      "Return_to_owner       0.44      0.39      0.42       915\n",
      "       Transfer       0.71      0.68      0.70      1872\n",
      "\n",
      "       accuracy                           0.65      5346\n",
      "      macro avg       0.45      0.39      0.39      5346\n",
      "   weighted avg       0.63      0.65      0.63      5346\n",
      "\n",
      "0.6515151515151515\n"
     ]
    },
    {
     "name": "stderr",
     "output_type": "stream",
     "text": [
      "/opt/conda/lib/python3.6/site-packages/sklearn/metrics/classification.py:1437: UndefinedMetricWarning: Precision and F-score are ill-defined and being set to 0.0 in labels with no predicted samples.\n",
      "  'precision', 'predicted', average, warn_for)\n"
     ]
    }
   ],
   "source": [
    "print(classification_report(val_y, y_pred_val))\n",
    "print(accuracy_score(val_y, y_pred_val))"
   ]
  },
  {
   "cell_type": "code",
   "execution_count": 37,
   "metadata": {},
   "outputs": [
    {
     "data": {
      "text/plain": [
       "0.6488963711185933"
      ]
     },
     "execution_count": 37,
     "metadata": {},
     "output_type": "execute_result"
    }
   ],
   "source": [
    "forest = RandomForestClassifier(n_estimators=200,min_samples_leaf=5,max_features='log2', n_jobs=2)\n",
    "forest.fit(train_x, train_y)\n",
    "forest.score(val_x,val_y)"
   ]
  },
  {
   "cell_type": "code",
   "execution_count": 38,
   "metadata": {},
   "outputs": [],
   "source": [
    "for c in cat_names:\n",
    "    test_df[c] =test_df[c].cat.codes\n",
    "    train_df[c] = train_df[c].cat.codes"
   ]
  },
  {
   "cell_type": "code",
   "execution_count": 39,
   "metadata": {},
   "outputs": [
    {
     "data": {
      "text/plain": [
       "RandomForestClassifier(bootstrap=True, class_weight=None, criterion='gini',\n",
       "                       max_depth=None, max_features='log2', max_leaf_nodes=None,\n",
       "                       min_impurity_decrease=0.0, min_impurity_split=None,\n",
       "                       min_samples_leaf=5, min_samples_split=2,\n",
       "                       min_weight_fraction_leaf=0.0, n_estimators=200, n_jobs=2,\n",
       "                       oob_score=False, random_state=None, verbose=0,\n",
       "                       warm_start=False)"
      ]
     },
     "execution_count": 39,
     "metadata": {},
     "output_type": "execute_result"
    }
   ],
   "source": [
    "forest = RandomForestClassifier(n_estimators=200,min_samples_leaf=5,max_features='log2', n_jobs=2)\n",
    "forest.fit(train_df.drop(dep_var,axis=1), train_df[dep_var])"
   ]
  },
  {
   "cell_type": "code",
   "execution_count": 40,
   "metadata": {},
   "outputs": [],
   "source": [
    "pred = forest.predict_proba(test_df)"
   ]
  },
  {
   "cell_type": "code",
   "execution_count": 41,
   "metadata": {},
   "outputs": [
    {
     "data": {
      "text/plain": [
       "['Adoption', 'Died', 'Euthanasia', 'Return_to_owner', 'Transfer']"
      ]
     },
     "execution_count": 41,
     "metadata": {},
     "output_type": "execute_result"
    }
   ],
   "source": [
    "forest.classes_.tolist()"
   ]
  },
  {
   "cell_type": "code",
   "execution_count": 42,
   "metadata": {},
   "outputs": [],
   "source": [
    "sub = pd.read_csv('/kaggle/input/shelter-animal-outcomes/test.csv.gz',parse_dates=['DateTime'])"
   ]
  },
  {
   "cell_type": "code",
   "execution_count": 43,
   "metadata": {},
   "outputs": [
    {
     "data": {
      "text/plain": [
       "array([0.026274, 0.715357, 0.450144, 0.121772, ..., 0.009357, 0.026848, 0.432965, 0.057752])"
      ]
     },
     "execution_count": 43,
     "metadata": {},
     "output_type": "execute_result"
    }
   ],
   "source": [
    "pred[:,0]"
   ]
  },
  {
   "cell_type": "code",
   "execution_count": 44,
   "metadata": {},
   "outputs": [],
   "source": [
    "for idx,c in enumerate(forest.classes_.tolist()):\n",
    "    sub[c] = pred[:,idx]"
   ]
  },
  {
   "cell_type": "code",
   "execution_count": 45,
   "metadata": {},
   "outputs": [],
   "source": [
    "sub = sub[['ID']+forest.classes_.tolist()]"
   ]
  },
  {
   "cell_type": "code",
   "execution_count": 46,
   "metadata": {},
   "outputs": [
    {
     "data": {
      "text/html": [
       "<div>\n",
       "<style scoped>\n",
       "    .dataframe tbody tr th:only-of-type {\n",
       "        vertical-align: middle;\n",
       "    }\n",
       "\n",
       "    .dataframe tbody tr th {\n",
       "        vertical-align: top;\n",
       "    }\n",
       "\n",
       "    .dataframe thead th {\n",
       "        text-align: right;\n",
       "    }\n",
       "</style>\n",
       "<table border=\"1\" class=\"dataframe\">\n",
       "  <thead>\n",
       "    <tr style=\"text-align: right;\">\n",
       "      <th></th>\n",
       "      <th>ID</th>\n",
       "      <th>Adoption</th>\n",
       "      <th>Died</th>\n",
       "      <th>Euthanasia</th>\n",
       "      <th>Return_to_owner</th>\n",
       "      <th>Transfer</th>\n",
       "    </tr>\n",
       "  </thead>\n",
       "  <tbody>\n",
       "    <tr>\n",
       "      <th>0</th>\n",
       "      <td>1</td>\n",
       "      <td>0.026274</td>\n",
       "      <td>0.003413</td>\n",
       "      <td>0.069739</td>\n",
       "      <td>0.315635</td>\n",
       "      <td>0.584940</td>\n",
       "    </tr>\n",
       "    <tr>\n",
       "      <th>1</th>\n",
       "      <td>2</td>\n",
       "      <td>0.715357</td>\n",
       "      <td>0.000714</td>\n",
       "      <td>0.008780</td>\n",
       "      <td>0.175448</td>\n",
       "      <td>0.099700</td>\n",
       "    </tr>\n",
       "    <tr>\n",
       "      <th>2</th>\n",
       "      <td>3</td>\n",
       "      <td>0.450144</td>\n",
       "      <td>0.002620</td>\n",
       "      <td>0.027808</td>\n",
       "      <td>0.083375</td>\n",
       "      <td>0.436052</td>\n",
       "    </tr>\n",
       "    <tr>\n",
       "      <th>3</th>\n",
       "      <td>4</td>\n",
       "      <td>0.121772</td>\n",
       "      <td>0.009692</td>\n",
       "      <td>0.054399</td>\n",
       "      <td>0.093437</td>\n",
       "      <td>0.720701</td>\n",
       "    </tr>\n",
       "    <tr>\n",
       "      <th>4</th>\n",
       "      <td>5</td>\n",
       "      <td>0.522859</td>\n",
       "      <td>0.000000</td>\n",
       "      <td>0.013841</td>\n",
       "      <td>0.190686</td>\n",
       "      <td>0.272613</td>\n",
       "    </tr>\n",
       "    <tr>\n",
       "      <th>...</th>\n",
       "      <td>...</td>\n",
       "      <td>...</td>\n",
       "      <td>...</td>\n",
       "      <td>...</td>\n",
       "      <td>...</td>\n",
       "      <td>...</td>\n",
       "    </tr>\n",
       "    <tr>\n",
       "      <th>11451</th>\n",
       "      <td>11452</td>\n",
       "      <td>0.463330</td>\n",
       "      <td>0.000021</td>\n",
       "      <td>0.002078</td>\n",
       "      <td>0.004432</td>\n",
       "      <td>0.530139</td>\n",
       "    </tr>\n",
       "    <tr>\n",
       "      <th>11452</th>\n",
       "      <td>11453</td>\n",
       "      <td>0.009357</td>\n",
       "      <td>0.015579</td>\n",
       "      <td>0.023282</td>\n",
       "      <td>0.000000</td>\n",
       "      <td>0.951782</td>\n",
       "    </tr>\n",
       "    <tr>\n",
       "      <th>11453</th>\n",
       "      <td>11454</td>\n",
       "      <td>0.026848</td>\n",
       "      <td>0.015006</td>\n",
       "      <td>0.053163</td>\n",
       "      <td>0.000090</td>\n",
       "      <td>0.904894</td>\n",
       "    </tr>\n",
       "    <tr>\n",
       "      <th>11454</th>\n",
       "      <td>11455</td>\n",
       "      <td>0.432965</td>\n",
       "      <td>0.000172</td>\n",
       "      <td>0.016440</td>\n",
       "      <td>0.449590</td>\n",
       "      <td>0.100833</td>\n",
       "    </tr>\n",
       "    <tr>\n",
       "      <th>11455</th>\n",
       "      <td>11456</td>\n",
       "      <td>0.057752</td>\n",
       "      <td>0.002214</td>\n",
       "      <td>0.261338</td>\n",
       "      <td>0.358332</td>\n",
       "      <td>0.320365</td>\n",
       "    </tr>\n",
       "  </tbody>\n",
       "</table>\n",
       "<p>11456 rows × 6 columns</p>\n",
       "</div>"
      ],
      "text/plain": [
       "          ID  Adoption      Died  Euthanasia  Return_to_owner  Transfer\n",
       "0          1  0.026274  0.003413    0.069739         0.315635  0.584940\n",
       "1          2  0.715357  0.000714    0.008780         0.175448  0.099700\n",
       "2          3  0.450144  0.002620    0.027808         0.083375  0.436052\n",
       "3          4  0.121772  0.009692    0.054399         0.093437  0.720701\n",
       "4          5  0.522859  0.000000    0.013841         0.190686  0.272613\n",
       "...      ...       ...       ...         ...              ...       ...\n",
       "11451  11452  0.463330  0.000021    0.002078         0.004432  0.530139\n",
       "11452  11453  0.009357  0.015579    0.023282         0.000000  0.951782\n",
       "11453  11454  0.026848  0.015006    0.053163         0.000090  0.904894\n",
       "11454  11455  0.432965  0.000172    0.016440         0.449590  0.100833\n",
       "11455  11456  0.057752  0.002214    0.261338         0.358332  0.320365\n",
       "\n",
       "[11456 rows x 6 columns]"
      ]
     },
     "execution_count": 46,
     "metadata": {},
     "output_type": "execute_result"
    }
   ],
   "source": [
    "sub"
   ]
  },
  {
   "cell_type": "code",
   "execution_count": 47,
   "metadata": {},
   "outputs": [],
   "source": [
    "sub.to_csv('Submission.csv',index=False)"
   ]
  },
  {
   "cell_type": "code",
   "execution_count": null,
   "metadata": {},
   "outputs": [],
   "source": []
  }
 ],
 "metadata": {
  "kernelspec": {
   "display_name": "Python 3",
   "language": "python",
   "name": "python3"
  },
  "language_info": {
   "codemirror_mode": {
    "name": "ipython",
    "version": 3
   },
   "file_extension": ".py",
   "mimetype": "text/x-python",
   "name": "python",
   "nbconvert_exporter": "python",
   "pygments_lexer": "ipython3",
   "version": "3.6.6"
  }
 },
 "nbformat": 4,
 "nbformat_minor": 1
}
